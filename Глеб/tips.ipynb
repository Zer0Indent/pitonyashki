{
 "cells": [
  {
   "attachments": {},
   "cell_type": "markdown",
   "metadata": {},
   "source": [
    "#### Индекс буквы для 16-ной системы счисления"
   ]
  },
  {
   "cell_type": "code",
   "execution_count": 1,
   "metadata": {},
   "outputs": [
    {
     "name": "stdout",
     "output_type": "stream",
     "text": [
      "0 – 0\n",
      "1 – 1\n",
      "2 – 2\n",
      "3 – 3\n",
      "4 – 4\n",
      "5 – 5\n",
      "6 – 6\n",
      "7 – 7\n",
      "8 – 8\n",
      "9 – 9\n",
      "A – 10\n",
      "B – 11\n",
      "C – 12\n",
      "D – 13\n",
      "E – 14\n",
      "F – 15\n"
     ]
    },
    {
     "data": {
      "text/plain": [
       "11"
      ]
     },
     "execution_count": 1,
     "metadata": {},
     "output_type": "execute_result"
    }
   ],
   "source": [
    "str = '0123456789ABCDEF'\n",
    "for i in str:\n",
    "    print(i, '–', str.index(i))\n",
    "\n",
    "match = {'A': 10, 'B': 11}\n",
    "match['B']\n"
   ]
  }
 ],
 "metadata": {
  "kernelspec": {
   "display_name": "Python 3",
   "language": "python",
   "name": "python3"
  },
  "language_info": {
   "codemirror_mode": {
    "name": "ipython",
    "version": 3
   },
   "file_extension": ".py",
   "mimetype": "text/x-python",
   "name": "python",
   "nbconvert_exporter": "python",
   "pygments_lexer": "ipython3",
   "version": "3.11.3"
  },
  "orig_nbformat": 4
 },
 "nbformat": 4,
 "nbformat_minor": 2
}
